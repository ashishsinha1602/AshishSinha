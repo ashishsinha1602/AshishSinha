{
 "cells": [
  {
   "cell_type": "code",
   "execution_count": 2,
   "metadata": {},
   "outputs": [],
   "source": [
    "from pyspark.sql import SparkSession\n",
    "from pyspark.sql import functions as f\n",
    "\n",
    "spark = SparkSession.builder.appName(\"Chapter4-5\").getOrCreate()"
   ]
  },
  {
   "cell_type": "code",
   "execution_count": 5,
   "metadata": {},
   "outputs": [],
   "source": [
    "ratings = (\n",
    "            spark.read.csv('/home/jovyan/data-sets/ml-latest-small/ratings.csv',inferSchema= True,header=True)\n",
    "            .select(\"userId\", \"movieId\", \"rating\")\n",
    "    .cache()\n",
    ")"
   ]
  },
  {
   "cell_type": "code",
   "execution_count": 34,
   "metadata": {},
   "outputs": [],
   "source": [
    "movies = (\n",
    "spark.read.csv('/home/jovyan/data-sets/ml-latest-small/movies.csv',inferSchema= True,header=True)\n",
    "        .withColumn('release_year', f.regexp_extract(f.col(\"title\"), \"\\s?\\((\\d{4})\\)\",1))\\\n",
    "        .withColumn('title', f.regexp_replace(f.col(\"title\"), \"\\s?\\((\\d{4})\\)\",\"\"))\n",
    ")              "
   ]
  },
  {
   "cell_type": "code",
   "execution_count": 35,
   "metadata": {},
   "outputs": [
    {
     "name": "stdout",
     "output_type": "stream",
     "text": [
      "+-------+--------------------+--------------------+------------+\n",
      "|movieId|               title|              genres|release_year|\n",
      "+-------+--------------------+--------------------+------------+\n",
      "|      1|           Toy Story|Adventure|Animati...|        1995|\n",
      "|      2|             Jumanji|Adventure|Childre...|        1995|\n",
      "|      3|    Grumpier Old Men|      Comedy|Romance|        1995|\n",
      "|      4|   Waiting to Exhale|Comedy|Drama|Romance|        1995|\n",
      "|      5|Father of the Bri...|              Comedy|        1995|\n",
      "|      6|                Heat|Action|Crime|Thri...|        1995|\n",
      "|      7|             Sabrina|      Comedy|Romance|        1995|\n",
      "|      8|        Tom and Huck|  Adventure|Children|        1995|\n",
      "|      9|        Sudden Death|              Action|        1995|\n",
      "|     10|           GoldenEye|Action|Adventure|...|        1995|\n",
      "|     11|American Presiden...|Comedy|Drama|Romance|        1995|\n",
      "|     12|Dracula: Dead and...|       Comedy|Horror|        1995|\n",
      "|     13|               Balto|Adventure|Animati...|        1995|\n",
      "|     14|               Nixon|               Drama|        1995|\n",
      "|     15|    Cutthroat Island|Action|Adventure|...|        1995|\n",
      "|     16|              Casino|         Crime|Drama|        1995|\n",
      "|     17|Sense and Sensibi...|       Drama|Romance|        1995|\n",
      "|     18|          Four Rooms|              Comedy|        1995|\n",
      "|     19|Ace Ventura: When...|              Comedy|        1995|\n",
      "|     20|         Money Train|Action|Comedy|Cri...|        1995|\n",
      "+-------+--------------------+--------------------+------------+\n",
      "only showing top 20 rows\n",
      "\n"
     ]
    }
   ],
   "source": [
    "movies.show()"
   ]
  },
  {
   "cell_type": "code",
   "execution_count": 36,
   "metadata": {},
   "outputs": [],
   "source": [
    "from pyspark.ml.recommendation import ALS\n",
    "from pyspark.ml.evaluation import RegressionEvaluator\n",
    " "
   ]
  },
  {
   "cell_type": "code",
   "execution_count": 39,
   "metadata": {},
   "outputs": [],
   "source": [
    "als = ALS(\n",
    "   \n",
    "    userCol='userId',\n",
    "    itemCol='movieId',\n",
    "    ratingCol='rating',\n",
    "    \n",
    ")\n",
    "\n",
    "train_data,test_data = ratings.randomSplit([.7,.3])\n",
    "model = als.fit(train_data)\n",
    "preditions = model.transform(test_data)\n",
    "evaluator = RegressionEvaluator(\n",
    "    metricName=\"rmse\", labelCol=\"rating\", predictionCol=\"prediction\"\n",
    ")"
   ]
  },
  {
   "cell_type": "code",
   "execution_count": 43,
   "metadata": {},
   "outputs": [],
   "source": [
    "rmse = evaluator.evaluate(preditions.na.drop())"
   ]
  },
  {
   "cell_type": "code",
   "execution_count": 44,
   "metadata": {},
   "outputs": [
    {
     "name": "stdout",
     "output_type": "stream",
     "text": [
      "0.9008659942703514\n"
     ]
    }
   ],
   "source": [
    "print(rmse)"
   ]
  },
  {
   "cell_type": "code",
   "execution_count": 45,
   "metadata": {},
   "outputs": [],
   "source": [
    "from pyspark.ml.tuning import CrossValidator, ParamGridBuilder"
   ]
  },
  {
   "cell_type": "code",
   "execution_count": 58,
   "metadata": {},
   "outputs": [],
   "source": [
    "parameter_grid = (\n",
    "    ParamGridBuilder()\n",
    "    .addGrid(als.rank, [1, 5, 10])\n",
    "    .addGrid(als.maxIter, [20])\n",
    "    .addGrid(als.regParam, [0.05, 0.1])\n",
    "    .build()\n",
    ")\n"
   ]
  },
  {
   "cell_type": "code",
   "execution_count": 60,
   "metadata": {},
   "outputs": [],
   "source": [
    "crossvalidator = CrossValidator(\n",
    "    estimator=als,\n",
    "    estimatorParamMaps=parameter_grid,\n",
    "    evaluator=evaluator,\n",
    "    numFolds=2,\n",
    ")\n"
   ]
  },
  {
   "cell_type": "code",
   "execution_count": 62,
   "metadata": {},
   "outputs": [],
   "source": [
    "cvModel = crossvalidator.fit(train_data)"
   ]
  },
  {
   "cell_type": "code",
   "execution_count": 63,
   "metadata": {},
   "outputs": [],
   "source": [
    "model = cvModel.bestModel"
   ]
  },
  {
   "cell_type": "code",
   "execution_count": 67,
   "metadata": {},
   "outputs": [
    {
     "name": "stdin",
     "output_type": "stream",
     "text": [
      "Enter userId : 250\n"
     ]
    }
   ],
   "source": [
    "userId = input(\"Enter userId :\")\n",
    "\n",
    "rec_all_user = model.recommendForAllUsers(5).cache()\n",
    "#rec_all_user.show(20,False)\n",
    "rec_for_user1=(\n",
    "  rec_all_user.filter(f\"userId=={userId}\")\n",
    "  .withColumn(\"rec\",f.explode(\"recommendations\"))\n",
    "  .select(\n",
    "        \"userId\",\n",
    "          f.col(\"rec\").movieId.alias(\"movieId\"),\n",
    "          f.col(\"rec\").rating.alias(\"rating\"),\n",
    "       )\n",
    "  .join(movies,\"movieId\")\n",
    "  .orderBy('rating',ascending = False)\n",
    "  .select('movieId','title','release_year')\n",
    "  )\n"
   ]
  },
  {
   "cell_type": "code",
   "execution_count": 68,
   "metadata": {},
   "outputs": [
    {
     "name": "stdout",
     "output_type": "stream",
     "text": [
      "+-------+------------------------------------------------+------------+\n",
      "|movieId|title                                           |release_year|\n",
      "+-------+------------------------------------------------+------------+\n",
      "|40491  |Match Factory Girl, The (Tulitikkutehtaan tyttö)|1990        |\n",
      "|136850 |Villain                                         |1971        |\n",
      "|156605 |Paterson                                        |            |\n",
      "|68536  |Stanley Kubrick: A Life in Pictures             |2001        |\n",
      "|8477   |Jetée, La                                       |1962        |\n",
      "+-------+------------------------------------------------+------------+\n",
      "\n"
     ]
    }
   ],
   "source": [
    "rec_for_user1.show(5,False)"
   ]
  },
  {
   "cell_type": "code",
   "execution_count": null,
   "metadata": {},
   "outputs": [],
   "source": []
  }
 ],
 "metadata": {
  "kernelspec": {
   "display_name": "Python 3",
   "language": "python",
   "name": "python3"
  },
  "language_info": {
   "codemirror_mode": {
    "name": "ipython",
    "version": 3
   },
   "file_extension": ".py",
   "mimetype": "text/x-python",
   "name": "python",
   "nbconvert_exporter": "python",
   "pygments_lexer": "ipython3",
   "version": "3.7.3"
  }
 },
 "nbformat": 4,
 "nbformat_minor": 2
}
